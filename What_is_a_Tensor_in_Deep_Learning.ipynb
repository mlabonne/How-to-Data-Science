{
  "nbformat": 4,
  "nbformat_minor": 0,
  "metadata": {
    "colab": {
      "name": "What is a Tensor in Deep Learning.ipynb",
      "provenance": [],
      "collapsed_sections": [],
      "authorship_tag": "ABX9TyNYIEnCDNEjtcmY5uhg7vhn",
      "include_colab_link": true
    },
    "kernelspec": {
      "name": "python3",
      "display_name": "Python 3"
    },
    "language_info": {
      "name": "python"
    },
    "accelerator": "GPU"
  },
  "cells": [
    {
      "cell_type": "markdown",
      "metadata": {
        "id": "view-in-github",
        "colab_type": "text"
      },
      "source": [
        "<a href=\"https://colab.research.google.com/github/mlabonne/how-to-data-science/blob/main/What_is_a_Tensor_in_Deep_Learning.ipynb\" target=\"_parent\"><img src=\"https://colab.research.google.com/assets/colab-badge.svg\" alt=\"Open In Colab\"/></a>"
      ]
    },
    {
      "cell_type": "code",
      "source": [
        "import numpy as np\n",
        "import torch\n",
        "\n",
        "array = np.array([1, 2, 3])\n",
        "print(f'NumPy Array: {array}')\n",
        "\n",
        "tensor = torch.tensor([1, 2, 3])\n",
        "print(f'PyTorch Tensor: {tensor}')"
      ],
      "metadata": {
        "colab": {
          "base_uri": "https://localhost:8080/"
        },
        "id": "Af6ham967Aax",
        "outputId": "5fd43800-41c6-4d07-816d-f6db922fea67"
      },
      "execution_count": null,
      "outputs": [
        {
          "output_type": "stream",
          "name": "stdout",
          "text": [
            "NumPy Array: [1 2 3]\n",
            "PyTorch Tensor: tensor([1, 2, 3])\n"
          ]
        }
      ]
    },
    {
      "cell_type": "code",
      "source": [
        "array = np.array([[1, 2, 3],\n",
        "                  [4, 5, 6]])\n",
        "print(f'NumPy Array:\\n{array}')\n",
        "\n",
        "tensor = torch.tensor([[1, 2, 3],\n",
        "                       [4, 5, 6]])\n",
        "print(f'\\nPyTorch Tensor:\\n{tensor}')"
      ],
      "metadata": {
        "colab": {
          "base_uri": "https://localhost:8080/"
        },
        "id": "rc6Nos7g-Olq",
        "outputId": "2627ad8d-a75a-4f2e-cca8-783b526de425"
      },
      "execution_count": null,
      "outputs": [
        {
          "output_type": "stream",
          "name": "stdout",
          "text": [
            "NumPy Array:\n",
            "[[1 2 3]\n",
            " [4 5 6]]\n",
            "\n",
            "PyTorch Tensor:\n",
            "tensor([[1, 2, 3],\n",
            "        [4, 5, 6]])\n"
          ]
        }
      ]
    },
    {
      "cell_type": "code",
      "source": [
        "# You need to run this code on a computer with a GPU\n",
        "device = torch.device(\"cuda\")\n",
        "\n",
        "# 4D arrays\n",
        "array1 = np.random.rand(100, 100, 100, 100)\n",
        "array2 = np.random.rand(100, 100, 100, 100)\n",
        "\n",
        "# 4D tensors\n",
        "tensor1 = torch.rand(100, 100, 100, 100).to(device)\n",
        "tensor2 = torch.rand(100, 100, 100, 100).to(device)"
      ],
      "metadata": {
        "id": "Z448Qo93-45T"
      },
      "execution_count": null,
      "outputs": []
    },
    {
      "cell_type": "code",
      "source": [
        "%%timeit\n",
        "np.matmul(array1, array2)"
      ],
      "metadata": {
        "colab": {
          "base_uri": "https://localhost:8080/"
        },
        "id": "qMrv4eTuAdkW",
        "outputId": "17758f7d-19d2-43bb-c4aa-af3ba574e326"
      },
      "execution_count": null,
      "outputs": [
        {
          "output_type": "stream",
          "name": "stdout",
          "text": [
            "1 loop, best of 5: 1.32 s per loop\n"
          ]
        }
      ]
    },
    {
      "cell_type": "code",
      "source": [
        "%%timeit\n",
        "torch.matmul(tensor1, tensor2)"
      ],
      "metadata": {
        "colab": {
          "base_uri": "https://localhost:8080/"
        },
        "id": "OibOHbnFCgsl",
        "outputId": "8b7ee3f5-e069-4784-9119-12de23e4609c"
      },
      "execution_count": null,
      "outputs": [
        {
          "output_type": "stream",
          "name": "stdout",
          "text": [
            "1000 loops, best of 5: 25.2 ms per loop\n"
          ]
        }
      ]
    }
  ]
}